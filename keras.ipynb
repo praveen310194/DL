{
  "nbformat": 4,
  "nbformat_minor": 0,
  "metadata": {
    "colab": {
      "name": "keras.ipynb",
      "provenance": [],
      "collapsed_sections": [],
      "authorship_tag": "ABX9TyPtk5VDf3PSjFVMTE5McKSY",
      "include_colab_link": true
    },
    "kernelspec": {
      "name": "python3",
      "display_name": "Python 3"
    }
  },
  "cells": [
    {
      "cell_type": "markdown",
      "metadata": {
        "id": "view-in-github",
        "colab_type": "text"
      },
      "source": [
        "<a href=\"https://colab.research.google.com/github/praveen310194/DL/blob/main/keras.ipynb\" target=\"_parent\"><img src=\"https://colab.research.google.com/assets/colab-badge.svg\" alt=\"Open In Colab\"/></a>"
      ]
    },
    {
      "cell_type": "code",
      "metadata": {
        "id": "jKLNIEksCUNs"
      },
      "source": [
        "from tensorflow.keras.models import Sequential\r\n",
        "from tensorflow.keras.layers import Dense ,Activation\r\n",
        "from tensorflow.keras.utils import plot_model"
      ],
      "execution_count": null,
      "outputs": []
    },
    {
      "cell_type": "code",
      "metadata": {
        "colab": {
          "base_uri": "https://localhost:8080/"
        },
        "id": "eS6agelCC4X8",
        "outputId": "23005668-9ca4-4d56-c544-4b763c6f466e"
      },
      "source": [
        "model=Sequential()\r\n",
        "model.add(Dense(8,input_shape=(2,),activation='relu'))\r\n",
        "#param(24)=input(2)*output_layers(8)+bais(1*output_layers(8))\r\n",
        "model.add(Dense(4,activation='relu'))\r\n",
        "#param(36)=input(8)*output_layers(4)+bais(1*output_layers(4))\r\n",
        "model.add(Dense(2,activation='softmax'))\r\n",
        "#param(18)=input(8)*output_layers(2)+bais(1*output_layers(2))\r\n",
        "model.summary()"
      ],
      "execution_count": null,
      "outputs": [
        {
          "output_type": "stream",
          "text": [
            "Model: \"sequential\"\n",
            "_________________________________________________________________\n",
            "Layer (type)                 Output Shape              Param #   \n",
            "=================================================================\n",
            "dense (Dense)                (None, 8)                 24        \n",
            "_________________________________________________________________\n",
            "dense_1 (Dense)              (None, 4)                 36        \n",
            "_________________________________________________________________\n",
            "dense_2 (Dense)              (None, 2)                 10        \n",
            "=================================================================\n",
            "Total params: 70\n",
            "Trainable params: 70\n",
            "Non-trainable params: 0\n",
            "_________________________________________________________________\n"
          ],
          "name": "stdout"
        }
      ]
    },
    {
      "cell_type": "code",
      "metadata": {
        "colab": {
          "base_uri": "https://localhost:8080/"
        },
        "id": "RqsGv_VlDMyd",
        "outputId": "ee179041-6fdf-4808-9fde-f4a32feaf3a0"
      },
      "source": [
        "model=Sequential()\r\n",
        "model.add(Dense(16,input_shape=(2,),activation='relu'))\r\n",
        "#param(48)=input(2)*output_layers(16)+bais(1*output_layers(16))\r\n",
        "model.add(Dense(8,activation='relu'))\r\n",
        "#param(136)=input(16)*output_layers(8)+bais(1*output_layers(8))\r\n",
        "model.add(Dense(4,activation='relu'))\r\n",
        "#param(36)=input(8)*output_layers(4)+bais(1*output_layers(4))\r\n",
        "model.add(Dense(2,activation='softmax'))\r\n",
        "#param(10)=input(4)*output_layers(2)+bais(1*output_layers(2))\r\n",
        "model.summary()"
      ],
      "execution_count": null,
      "outputs": [
        {
          "output_type": "stream",
          "text": [
            "Model: \"sequential_1\"\n",
            "_________________________________________________________________\n",
            "Layer (type)                 Output Shape              Param #   \n",
            "=================================================================\n",
            "dense_3 (Dense)              (None, 16)                48        \n",
            "_________________________________________________________________\n",
            "dense_4 (Dense)              (None, 8)                 136       \n",
            "_________________________________________________________________\n",
            "dense_5 (Dense)              (None, 4)                 36        \n",
            "_________________________________________________________________\n",
            "dense_6 (Dense)              (None, 2)                 10        \n",
            "=================================================================\n",
            "Total params: 230\n",
            "Trainable params: 230\n",
            "Non-trainable params: 0\n",
            "_________________________________________________________________\n"
          ],
          "name": "stdout"
        }
      ]
    },
    {
      "cell_type": "code",
      "metadata": {
        "id": "HvmD9lhsDV-8"
      },
      "source": [
        "from tensorflow.keras.layers import Dense,Conv2D,MaxPooling2D,Flatten,Dropout"
      ],
      "execution_count": null,
      "outputs": []
    },
    {
      "cell_type": "code",
      "metadata": {
        "colab": {
          "base_uri": "https://localhost:8080/"
        },
        "id": "HjD2DuRgrsy1",
        "outputId": "abff05ae-b621-45dd-bb10-5191ec87324f"
      },
      "source": [
        "print((5*5*1+1)*32)\r\n",
        "(5*5*32+1)*16"
      ],
      "execution_count": null,
      "outputs": [
        {
          "output_type": "stream",
          "text": [
            "832\n"
          ],
          "name": "stdout"
        },
        {
          "output_type": "execute_result",
          "data": {
            "text/plain": [
              "12816"
            ]
          },
          "metadata": {
            "tags": []
          },
          "execution_count": 16
        }
      ]
    },
    {
      "cell_type": "code",
      "metadata": {
        "colab": {
          "base_uri": "https://localhost:8080/"
        },
        "id": "Z6VmT9Nu9y3F",
        "outputId": "abe95086-cd35-483c-a2d4-27687467d1bb"
      },
      "source": [
        "model=Sequential()\r\n",
        "model.add(Conv2D(32,kernel_size=(5,5),activation='relu',input_shape=(28,28,1)))\r\n",
        "#input_shape(28)-kernel_size(5)+1)=24\r\n",
        "#[kernel_size(5)*kernel_size(5)*input_channel(1)+bais(1)]*filer(32)=param(832)\r\n",
        "model.add(Conv2D(16,kernel_size=(5,5),activation='relu'))\r\n",
        "#input_shape(24)-kernel_size(5)+input_channel(1)=20\r\n",
        "#[kernel_size(5)*kernel_size(5)*input_channel(32)+bais(1)]*filer(32)=param(25632)\r\n",
        "model.add(MaxPooling2D(pool_size=(2,2)))\r\n",
        "#input_shape(20)/pool_size(2)=10\r\n",
        "model.add(Flatten())\r\n",
        "#10*10*16=1600\r\n",
        "model.add(Dense(2,activation='softmax'))\r\n",
        "#1600*2+bais(2)=3202\r\n",
        "model.summary()"
      ],
      "execution_count": null,
      "outputs": [
        {
          "output_type": "stream",
          "text": [
            "Model: \"sequential_9\"\n",
            "_________________________________________________________________\n",
            "Layer (type)                 Output Shape              Param #   \n",
            "=================================================================\n",
            "conv2d_14 (Conv2D)           (None, 24, 24, 32)        832       \n",
            "_________________________________________________________________\n",
            "conv2d_15 (Conv2D)           (None, 20, 20, 16)        12816     \n",
            "_________________________________________________________________\n",
            "max_pooling2d_9 (MaxPooling2 (None, 10, 10, 16)        0         \n",
            "_________________________________________________________________\n",
            "flatten_7 (Flatten)          (None, 1600)              0         \n",
            "_________________________________________________________________\n",
            "dense_14 (Dense)             (None, 2)                 3202      \n",
            "=================================================================\n",
            "Total params: 16,850\n",
            "Trainable params: 16,850\n",
            "Non-trainable params: 0\n",
            "_________________________________________________________________\n"
          ],
          "name": "stdout"
        }
      ]
    },
    {
      "cell_type": "code",
      "metadata": {
        "colab": {
          "base_uri": "https://localhost:8080/"
        },
        "id": "_Aveu-Jhmcq7",
        "outputId": "52c36e6a-2f2e-42d0-e230-0925fdcbe4ca"
      },
      "source": [
        "(5*5*32+1)*16"
      ],
      "execution_count": null,
      "outputs": [
        {
          "output_type": "execute_result",
          "data": {
            "text/plain": [
              "12816"
            ]
          },
          "metadata": {
            "tags": []
          },
          "execution_count": 21
        }
      ]
    },
    {
      "cell_type": "code",
      "metadata": {
        "id": "jY_1CCCe93bz",
        "colab": {
          "base_uri": "https://localhost:8080/"
        },
        "outputId": "893421b9-13d9-4da1-bee2-9747a87809c9"
      },
      "source": [
        "model=Sequential()\r\n",
        "model.add(Conv2D(32,kernel_size=(5,5),activation='relu',input_shape=(28,28,1)))\r\n",
        "#input_shape(28)-kernel_size(5)+1)=24\r\n",
        "#kernel_size(5)*kernel_size(5)*input_channel(1)+1*filer(32)=param(832)\r\n",
        "model.add(MaxPooling2D(pool_size=(2,2)))\r\n",
        "#input_shape(24)/pool_size(2)=10\r\n",
        "model.add(Dropout(0.2))\r\n",
        "model.add(Conv2D(16,kernel_size=(5,5),activation='relu'))\r\n",
        "#input_shape(12)-kernel_size(5)+input_channel(1)=8\r\n",
        "#[kernel_size(5)*kernel_size(5)*input_channel(32)+bais(1)]*filer(16)=param(12816)\r\n",
        "model.add(MaxPooling2D(pool_size=(2,2)))\r\n",
        "#input_shape(8)/pool_size(2)=4\r\n",
        "model.add(Flatten())\r\n",
        "#4*4*16=256\r\n",
        "model.add(Dense(2,activation='softmax'))\r\n",
        "#256*2+bais(2)=514\r\n",
        "model.summary()"
      ],
      "execution_count": null,
      "outputs": [
        {
          "output_type": "stream",
          "text": [
            "Model: \"sequential_10\"\n",
            "_________________________________________________________________\n",
            "Layer (type)                 Output Shape              Param #   \n",
            "=================================================================\n",
            "conv2d_16 (Conv2D)           (None, 24, 24, 32)        832       \n",
            "_________________________________________________________________\n",
            "max_pooling2d_10 (MaxPooling (None, 12, 12, 32)        0         \n",
            "_________________________________________________________________\n",
            "dropout_2 (Dropout)          (None, 12, 12, 32)        0         \n",
            "_________________________________________________________________\n",
            "conv2d_17 (Conv2D)           (None, 8, 8, 16)          12816     \n",
            "_________________________________________________________________\n",
            "max_pooling2d_11 (MaxPooling (None, 4, 4, 16)          0         \n",
            "_________________________________________________________________\n",
            "flatten_8 (Flatten)          (None, 256)               0         \n",
            "_________________________________________________________________\n",
            "dense_15 (Dense)             (None, 2)                 514       \n",
            "=================================================================\n",
            "Total params: 14,162\n",
            "Trainable params: 14,162\n",
            "Non-trainable params: 0\n",
            "_________________________________________________________________\n"
          ],
          "name": "stdout"
        }
      ]
    },
    {
      "cell_type": "code",
      "metadata": {
        "id": "gdvAhTHVjNQ9"
      },
      "source": [
        ""
      ],
      "execution_count": null,
      "outputs": []
    }
  ]
}